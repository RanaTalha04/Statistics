{
 "cells": [
  {
   "cell_type": "code",
   "execution_count": 1,
   "id": "6f7d0817",
   "metadata": {},
   "outputs": [],
   "source": [
    "import scipy.stats as st \n",
    "import numpy as np"
   ]
  },
  {
   "cell_type": "code",
   "execution_count": 3,
   "id": "f60b1557",
   "metadata": {},
   "outputs": [
    {
     "data": {
      "text/plain": [
       "np.float64(-1.7108820799094282)"
      ]
     },
     "execution_count": 3,
     "metadata": {},
     "output_type": "execute_result"
    }
   ],
   "source": [
    "t_table = st.t.ppf(0.05, 24)\n",
    "t_table"
   ]
  },
  {
   "cell_type": "code",
   "execution_count": 4,
   "id": "188c44f0",
   "metadata": {},
   "outputs": [],
   "source": [
    "s_x = 148\n",
    "p_u = 150\n",
    "n = 25\n",
    "s_S = 5"
   ]
  },
  {
   "cell_type": "code",
   "execution_count": 5,
   "id": "0431cfe3",
   "metadata": {},
   "outputs": [
    {
     "data": {
      "text/plain": [
       "np.float64(-2.0)"
      ]
     },
     "execution_count": 5,
     "metadata": {},
     "output_type": "execute_result"
    }
   ],
   "source": [
    "t_cal = (s_x - p_u)/ (s_S / np.sqrt(n))\n",
    "t_cal"
   ]
  }
 ],
 "metadata": {
  "kernelspec": {
   "display_name": "venv",
   "language": "python",
   "name": "python3"
  },
  "language_info": {
   "codemirror_mode": {
    "name": "ipython",
    "version": 3
   },
   "file_extension": ".py",
   "mimetype": "text/x-python",
   "name": "python",
   "nbconvert_exporter": "python",
   "pygments_lexer": "ipython3",
   "version": "3.13.5"
  }
 },
 "nbformat": 4,
 "nbformat_minor": 5
}
