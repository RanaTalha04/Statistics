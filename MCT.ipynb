{
 "cells": [
  {
   "cell_type": "markdown",
   "id": "1c1bdca0",
   "metadata": {},
   "source": [
    "## Importing Libraries"
   ]
  },
  {
   "cell_type": "code",
   "execution_count": 11,
   "id": "517d449d",
   "metadata": {},
   "outputs": [],
   "source": [
    "import numpy as np \n",
    "import pandas as pd \n",
    "import matplotlib.pyplot as plt \n",
    "import seaborn as sns"
   ]
  },
  {
   "cell_type": "code",
   "execution_count": 12,
   "id": "7830cc5c",
   "metadata": {},
   "outputs": [],
   "source": [
    "dataset = pd.read_csv(\"DataSets/titanic.csv\", delimiter=',')\n",
    "df = pd.DataFrame(dataset)"
   ]
  },
  {
   "cell_type": "code",
   "execution_count": 13,
   "id": "cd56b376",
   "metadata": {},
   "outputs": [
    {
     "data": {
      "application/vnd.microsoft.datawrangler.viewer.v0+json": {
       "columns": [
        {
         "name": "index",
         "rawType": "int64",
         "type": "integer"
        },
        {
         "name": "survived",
         "rawType": "int64",
         "type": "integer"
        },
        {
         "name": "pclass",
         "rawType": "int64",
         "type": "integer"
        },
        {
         "name": "name",
         "rawType": "object",
         "type": "string"
        },
        {
         "name": "sex",
         "rawType": "object",
         "type": "string"
        },
        {
         "name": "age",
         "rawType": "float64",
         "type": "float"
        },
        {
         "name": "fare",
         "rawType": "float64",
         "type": "float"
        },
        {
         "name": "sibsp",
         "rawType": "int64",
         "type": "integer"
        },
        {
         "name": "parch",
         "rawType": "int64",
         "type": "integer"
        }
       ],
       "ref": "8ec7bd6b-0718-4015-9d16-00a3b6258ce5",
       "rows": [
        [
         "0",
         "0",
         "3",
         "Braund, Mr. Owen Harris",
         "male",
         "22.0",
         "7.25",
         "1",
         "0"
        ],
        [
         "1",
         "1",
         "1",
         "Cumings, Mrs. John Bradley (Florence Briggs Thayer)",
         "female",
         "38.0",
         "71.2833",
         "1",
         "0"
        ],
        [
         "2",
         "1",
         "3",
         "Heikkinen, Miss. Laina",
         "female",
         "26.0",
         "7.925",
         "0",
         "0"
        ],
        [
         "3",
         "1",
         "1",
         "Futrelle, Mrs. Jacques Heath (Lily May Peel)",
         "female",
         "35.0",
         "53.1",
         "1",
         "0"
        ],
        [
         "4",
         "0",
         "3",
         "Allen, Mr. William Henry",
         "male",
         "35.0",
         "8.05",
         "0",
         "0"
        ],
        [
         "5",
         "0",
         "1",
         "McCarthy, Mr. Timothy J",
         "male",
         "54.0",
         "51.8625",
         "0",
         "0"
        ],
        [
         "6",
         "0",
         "3",
         "Palsson, Master. Gosta Leonard",
         "male",
         "2.0",
         "21.075",
         "3",
         "1"
        ],
        [
         "7",
         "1",
         "3",
         "Johnson, Mrs. Oscar W (Elisabeth Vilhelmina Berg)",
         "female",
         "27.0",
         "11.1333",
         "0",
         "2"
        ],
        [
         "8",
         "1",
         "2",
         "Nasser, Mrs. Nicholas (Adele Achem)",
         "female",
         "14.0",
         "30.0708",
         "1",
         "0"
        ],
        [
         "9",
         "1",
         "3",
         "Sandstrom, Miss. Marguerite Rut",
         "female",
         "4.0",
         "16.7",
         "1",
         "1"
        ]
       ],
       "shape": {
        "columns": 8,
        "rows": 10
       }
      },
      "text/html": [
       "<div>\n",
       "<style scoped>\n",
       "    .dataframe tbody tr th:only-of-type {\n",
       "        vertical-align: middle;\n",
       "    }\n",
       "\n",
       "    .dataframe tbody tr th {\n",
       "        vertical-align: top;\n",
       "    }\n",
       "\n",
       "    .dataframe thead th {\n",
       "        text-align: right;\n",
       "    }\n",
       "</style>\n",
       "<table border=\"1\" class=\"dataframe\">\n",
       "  <thead>\n",
       "    <tr style=\"text-align: right;\">\n",
       "      <th></th>\n",
       "      <th>survived</th>\n",
       "      <th>pclass</th>\n",
       "      <th>name</th>\n",
       "      <th>sex</th>\n",
       "      <th>age</th>\n",
       "      <th>fare</th>\n",
       "      <th>sibsp</th>\n",
       "      <th>parch</th>\n",
       "    </tr>\n",
       "  </thead>\n",
       "  <tbody>\n",
       "    <tr>\n",
       "      <th>0</th>\n",
       "      <td>0</td>\n",
       "      <td>3</td>\n",
       "      <td>Braund, Mr. Owen Harris</td>\n",
       "      <td>male</td>\n",
       "      <td>22.0</td>\n",
       "      <td>7.2500</td>\n",
       "      <td>1</td>\n",
       "      <td>0</td>\n",
       "    </tr>\n",
       "    <tr>\n",
       "      <th>1</th>\n",
       "      <td>1</td>\n",
       "      <td>1</td>\n",
       "      <td>Cumings, Mrs. John Bradley (Florence Briggs Th...</td>\n",
       "      <td>female</td>\n",
       "      <td>38.0</td>\n",
       "      <td>71.2833</td>\n",
       "      <td>1</td>\n",
       "      <td>0</td>\n",
       "    </tr>\n",
       "    <tr>\n",
       "      <th>2</th>\n",
       "      <td>1</td>\n",
       "      <td>3</td>\n",
       "      <td>Heikkinen, Miss. Laina</td>\n",
       "      <td>female</td>\n",
       "      <td>26.0</td>\n",
       "      <td>7.9250</td>\n",
       "      <td>0</td>\n",
       "      <td>0</td>\n",
       "    </tr>\n",
       "    <tr>\n",
       "      <th>3</th>\n",
       "      <td>1</td>\n",
       "      <td>1</td>\n",
       "      <td>Futrelle, Mrs. Jacques Heath (Lily May Peel)</td>\n",
       "      <td>female</td>\n",
       "      <td>35.0</td>\n",
       "      <td>53.1000</td>\n",
       "      <td>1</td>\n",
       "      <td>0</td>\n",
       "    </tr>\n",
       "    <tr>\n",
       "      <th>4</th>\n",
       "      <td>0</td>\n",
       "      <td>3</td>\n",
       "      <td>Allen, Mr. William Henry</td>\n",
       "      <td>male</td>\n",
       "      <td>35.0</td>\n",
       "      <td>8.0500</td>\n",
       "      <td>0</td>\n",
       "      <td>0</td>\n",
       "    </tr>\n",
       "    <tr>\n",
       "      <th>5</th>\n",
       "      <td>0</td>\n",
       "      <td>1</td>\n",
       "      <td>McCarthy, Mr. Timothy J</td>\n",
       "      <td>male</td>\n",
       "      <td>54.0</td>\n",
       "      <td>51.8625</td>\n",
       "      <td>0</td>\n",
       "      <td>0</td>\n",
       "    </tr>\n",
       "    <tr>\n",
       "      <th>6</th>\n",
       "      <td>0</td>\n",
       "      <td>3</td>\n",
       "      <td>Palsson, Master. Gosta Leonard</td>\n",
       "      <td>male</td>\n",
       "      <td>2.0</td>\n",
       "      <td>21.0750</td>\n",
       "      <td>3</td>\n",
       "      <td>1</td>\n",
       "    </tr>\n",
       "    <tr>\n",
       "      <th>7</th>\n",
       "      <td>1</td>\n",
       "      <td>3</td>\n",
       "      <td>Johnson, Mrs. Oscar W (Elisabeth Vilhelmina Berg)</td>\n",
       "      <td>female</td>\n",
       "      <td>27.0</td>\n",
       "      <td>11.1333</td>\n",
       "      <td>0</td>\n",
       "      <td>2</td>\n",
       "    </tr>\n",
       "    <tr>\n",
       "      <th>8</th>\n",
       "      <td>1</td>\n",
       "      <td>2</td>\n",
       "      <td>Nasser, Mrs. Nicholas (Adele Achem)</td>\n",
       "      <td>female</td>\n",
       "      <td>14.0</td>\n",
       "      <td>30.0708</td>\n",
       "      <td>1</td>\n",
       "      <td>0</td>\n",
       "    </tr>\n",
       "    <tr>\n",
       "      <th>9</th>\n",
       "      <td>1</td>\n",
       "      <td>3</td>\n",
       "      <td>Sandstrom, Miss. Marguerite Rut</td>\n",
       "      <td>female</td>\n",
       "      <td>4.0</td>\n",
       "      <td>16.7000</td>\n",
       "      <td>1</td>\n",
       "      <td>1</td>\n",
       "    </tr>\n",
       "  </tbody>\n",
       "</table>\n",
       "</div>"
      ],
      "text/plain": [
       "   survived  pclass                                               name  \\\n",
       "0         0       3                            Braund, Mr. Owen Harris   \n",
       "1         1       1  Cumings, Mrs. John Bradley (Florence Briggs Th...   \n",
       "2         1       3                             Heikkinen, Miss. Laina   \n",
       "3         1       1       Futrelle, Mrs. Jacques Heath (Lily May Peel)   \n",
       "4         0       3                           Allen, Mr. William Henry   \n",
       "5         0       1                            McCarthy, Mr. Timothy J   \n",
       "6         0       3                     Palsson, Master. Gosta Leonard   \n",
       "7         1       3  Johnson, Mrs. Oscar W (Elisabeth Vilhelmina Berg)   \n",
       "8         1       2                Nasser, Mrs. Nicholas (Adele Achem)   \n",
       "9         1       3                    Sandstrom, Miss. Marguerite Rut   \n",
       "\n",
       "      sex   age     fare  sibsp  parch  \n",
       "0    male  22.0   7.2500      1      0  \n",
       "1  female  38.0  71.2833      1      0  \n",
       "2  female  26.0   7.9250      0      0  \n",
       "3  female  35.0  53.1000      1      0  \n",
       "4    male  35.0   8.0500      0      0  \n",
       "5    male  54.0  51.8625      0      0  \n",
       "6    male   2.0  21.0750      3      1  \n",
       "7  female  27.0  11.1333      0      2  \n",
       "8  female  14.0  30.0708      1      0  \n",
       "9  female   4.0  16.7000      1      1  "
      ]
     },
     "execution_count": 13,
     "metadata": {},
     "output_type": "execute_result"
    }
   ],
   "source": [
    "df.head(10)"
   ]
  },
  {
   "cell_type": "code",
   "execution_count": 21,
   "id": "3439af8b",
   "metadata": {},
   "outputs": [
    {
     "data": {
      "text/plain": [
       "np.int64(0)"
      ]
     },
     "execution_count": 21,
     "metadata": {},
     "output_type": "execute_result"
    }
   ],
   "source": [
    "df['age'].isnull().sum()"
   ]
  },
  {
   "cell_type": "markdown",
   "id": "3667c2a2",
   "metadata": {},
   "source": [
    "## Measure of central Tendencies: (Mean, Median, Mode)"
   ]
  },
  {
   "cell_type": "markdown",
   "id": "1897b6e4",
   "metadata": {},
   "source": [
    "#### 1. Mean"
   ]
  },
  {
   "cell_type": "code",
   "execution_count": 18,
   "id": "b44f5e59",
   "metadata": {},
   "outputs": [
    {
     "data": {
      "text/plain": [
       "np.float64(29.69911764705882)"
      ]
     },
     "execution_count": 18,
     "metadata": {},
     "output_type": "execute_result"
    }
   ],
   "source": [
    "mn = df['age'].mean()\n",
    "mn"
   ]
  },
  {
   "cell_type": "code",
   "execution_count": 43,
   "id": "c848b492",
   "metadata": {},
   "outputs": [
    {
     "data": {
      "image/png": "[encoded data removed]",
      "text/plain": [
       "<Figure size 640x480 with 1 Axes>"
      ]
     },
     "metadata": {},
     "output_type": "display_data"
    }
   ],
   "source": [
    "sns.histplot(x='age', data= df, bins=[i for i in range(0, 81, 10)])\n",
    "plt.plot([mn for i in range(0, 300)], [i for i in range(0, 300)], c = \"blue\")\n",
    "plt.show()"
   ]
  },
  {
   "cell_type": "markdown",
   "id": "9d6e4610",
   "metadata": {},
   "source": [
    "#### 2. Median"
   ]
  },
  {
   "cell_type": "code",
   "execution_count": 29,
   "id": "4a51083f",
   "metadata": {},
   "outputs": [
    {
     "data": {
      "text/plain": [
       "np.float64(15.7417)"
      ]
     },
     "execution_count": 29,
     "metadata": {},
     "output_type": "execute_result"
    }
   ],
   "source": [
    "md = df['fare'].median()\n",
    "md"
   ]
  },
  {
   "cell_type": "code",
   "execution_count": 42,
   "id": "b8665b3a",
   "metadata": {},
   "outputs": [
    {
     "data": {
      "image/png": "[encoded data removed]",
      "text/plain": [
       "<Figure size 640x480 with 1 Axes>"
      ]
     },
     "metadata": {},
     "output_type": "display_data"
    }
   ],
   "source": [
    "sns.histplot(x= 'fare', data= df, bins=[i for i in range(0, 81, 10)])\n",
    "plt.plot([md for i in range(0, 300)], [i for i in range(0, 300)], c = \"green\")\n",
    "plt.show()"
   ]
  },
  {
   "cell_type": "markdown",
   "id": "49c837fb",
   "metadata": {},
   "source": [
    "#### 3. Mode"
   ]
  },
  {
   "cell_type": "code",
   "execution_count": 39,
   "id": "b9b47ed1",
   "metadata": {},
   "outputs": [
    {
     "data": {
      "text/plain": [
       "np.float64(13.0)"
      ]
     },
     "execution_count": 39,
     "metadata": {},
     "output_type": "execute_result"
    }
   ],
   "source": [
    "mo = df['fare'].mode()[0]\n",
    "mo"
   ]
  },
  {
   "cell_type": "code",
   "execution_count": 40,
   "id": "cef1c855",
   "metadata": {},
   "outputs": [
    {
     "data": {
      "application/vnd.microsoft.datawrangler.viewer.v0+json": {
       "columns": [
        {
         "name": "fare",
         "rawType": "float64",
         "type": "float"
        },
        {
         "name": "count",
         "rawType": "int64",
         "type": "integer"
        }
       ],
       "ref": "a2935a15-e44a-4bbb-aecc-9746b20556f9",
       "rows": [
        [
         "13.0",
         "41"
        ],
        [
         "26.0",
         "30"
        ],
        [
         "8.05",
         "29"
        ],
        [
         "10.5",
         "24"
        ],
        [
         "7.8958",
         "23"
        ],
        [
         "7.925",
         "18"
        ],
        [
         "7.75",
         "14"
        ],
        [
         "7.775",
         "14"
        ],
        [
         "26.55",
         "13"
        ],
        [
         "7.8542",
         "13"
        ],
        [
         "8.6625",
         "12"
        ],
        [
         "7.25",
         "10"
        ],
        [
         "7.2292",
         "8"
        ],
        [
         "9.5",
         "8"
        ],
        [
         "31.275",
         "7"
        ],
        [
         "0.0",
         "7"
        ],
        [
         "21.0",
         "6"
        ],
        [
         "7.7958",
         "6"
        ],
        [
         "7.05",
         "6"
        ],
        [
         "46.9",
         "6"
        ],
        [
         "16.1",
         "6"
        ],
        [
         "39.6875",
         "6"
        ],
        [
         "27.9",
         "6"
        ],
        [
         "14.4542",
         "6"
        ],
        [
         "26.25",
         "6"
        ],
        [
         "7.225",
         "6"
        ],
        [
         "73.5",
         "5"
        ],
        [
         "53.1",
         "5"
        ],
        [
         "14.5",
         "5"
        ],
        [
         "24.15",
         "5"
        ],
        [
         "29.125",
         "5"
        ],
        [
         "52.0",
         "5"
        ],
        [
         "30.0",
         "5"
        ],
        [
         "15.85",
         "4"
        ],
        [
         "12.475",
         "4"
        ],
        [
         "7.65",
         "4"
        ],
        [
         "27.75",
         "4"
        ],
        [
         "23.0",
         "4"
        ],
        [
         "21.075",
         "4"
        ],
        [
         "31.3875",
         "4"
        ],
        [
         "56.4958",
         "4"
        ],
        [
         "34.375",
         "4"
        ],
        [
         "11.5",
         "4"
        ],
        [
         "39.0",
         "4"
        ],
        [
         "90.0",
         "4"
        ],
        [
         "151.55",
         "4"
        ],
        [
         "120.0",
         "4"
        ],
        [
         "7.125",
         "4"
        ],
        [
         "263.0",
         "4"
        ],
        [
         "13.5",
         "4"
        ]
       ],
       "shape": {
        "columns": 1,
        "rows": 220
       }
      },
      "text/plain": [
       "fare\n",
       "13.0000    41\n",
       "26.0000    30\n",
       "8.0500     29\n",
       "10.5000    24\n",
       "7.8958     23\n",
       "           ..\n",
       "13.8583     1\n",
       "50.4958     1\n",
       "5.0000      1\n",
       "9.8458      1\n",
       "10.5167     1\n",
       "Name: count, Length: 220, dtype: int64"
      ]
     },
     "execution_count": 40,
     "metadata": {},
     "output_type": "execute_result"
    }
   ],
   "source": [
    "df['fare'].value_counts()"
   ]
  },
  {
   "cell_type": "code",
   "execution_count": 44,
   "id": "d49b4fb9",
   "metadata": {},
   "outputs": [
    {
     "data": {
      "image/png": "[encoded data removed]",
      "text/plain": [
       "<Figure size 640x480 with 1 Axes>"
      ]
     },
     "metadata": {},
     "output_type": "display_data"
    }
   ],
   "source": [
    "sns.histplot(x= 'fare', data= df, bins=[i for i in range(0, 81, 10)])\n",
    "plt.plot([mo for i in range(0, 300)], [i for i in range(0, 300)], c = \"red\")\n",
    "plt.plot([md for i in range(0, 300)], [i for i in range(0, 300)], c = \"green\")\n",
    "plt.plot([mn for i in range(0, 300)], [i for i in range(0, 300)], c = \"blue\")\n",
    "plt.show()"
   ]
  }
 ],
 "metadata": {
  "kernelspec": {
   "display_name": "venv",
   "language": "python",
   "name": "python3"
  },
  "language_info": {
   "codemirror_mode": {
    "name": "ipython",
    "version": 3
   },
   "file_extension": ".py",
   "mimetype": "text/x-python",
   "name": "python",
   "nbconvert_exporter": "python",
   "pygments_lexer": "ipython3",
   "version": "3.13.5"
  }
 },
 "nbformat": 4,
 "nbformat_minor": 5
}
