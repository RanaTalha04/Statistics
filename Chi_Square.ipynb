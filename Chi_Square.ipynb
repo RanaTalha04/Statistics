{
 "cells": [
  {
   "cell_type": "code",
   "execution_count": 1,
   "id": "1e9d5511",
   "metadata": {},
   "outputs": [],
   "source": [
    "import numpy as np"
   ]
  },
  {
   "cell_type": "code",
   "execution_count": 2,
   "id": "ced5a302",
   "metadata": {},
   "outputs": [],
   "source": [
    "ob = np.array([22, 17, 20, 26, 22, 13])\n",
    "ex = np.array([20, 20, 20, 20, 20, 20])"
   ]
  },
  {
   "cell_type": "code",
   "execution_count": 5,
   "id": "bda87068",
   "metadata": {},
   "outputs": [
    {
     "data": {
      "text/plain": [
       "np.float64(5.1000000000000005)"
      ]
     },
     "execution_count": 5,
     "metadata": {},
     "output_type": "execute_result"
    }
   ],
   "source": [
    "x2 = np.sum(np.square(ob - ex)/ex)\n",
    "x2"
   ]
  },
  {
   "cell_type": "markdown",
   "id": "c75341ee",
   "metadata": {},
   "source": [
    "## TASK 2"
   ]
  },
  {
   "cell_type": "code",
   "execution_count": 6,
   "id": "ade6373e",
   "metadata": {},
   "outputs": [],
   "source": [
    "row1 = np.array([40, 45, 25, 10])\n",
    "row2 = np.array([35, 30, 20, 30])"
   ]
  },
  {
   "cell_type": "code",
   "execution_count": 10,
   "id": "005ba922",
   "metadata": {},
   "outputs": [
    {
     "data": {
      "text/plain": [
       "array([120, 115])"
      ]
     },
     "execution_count": 10,
     "metadata": {},
     "output_type": "execute_result"
    }
   ],
   "source": [
    "sum_r1 = np.sum(row1)\n",
    "sum_r2 = np.sum(row2)\n",
    "sum_row = np.array([sum_r1, sum_r2])\n",
    "sum_row"
   ]
  },
  {
   "cell_type": "code",
   "execution_count": 8,
   "id": "6b266918",
   "metadata": {},
   "outputs": [
    {
     "data": {
      "text/plain": [
       "array([75, 75, 45, 40])"
      ]
     },
     "execution_count": 8,
     "metadata": {},
     "output_type": "execute_result"
    }
   ],
   "source": [
    "sum_col = row1 + row2\n",
    "sum_col"
   ]
  },
  {
   "cell_type": "code",
   "execution_count": 12,
   "id": "9dde1bec",
   "metadata": {},
   "outputs": [],
   "source": [
    "exp = []\n",
    "for i in sum_row:\n",
    "    for j in sum_col:\n",
    "        value = (i * j)/ 235\n",
    "        exp.append(value)"
   ]
  },
  {
   "cell_type": "code",
   "execution_count": 14,
   "id": "b1fe336d",
   "metadata": {},
   "outputs": [
    {
     "data": {
      "text/plain": [
       "array([40, 45, 25, 10, 35, 30, 20, 30])"
      ]
     },
     "execution_count": 14,
     "metadata": {},
     "output_type": "execute_result"
    }
   ],
   "source": [
    "obj = np.array([40, 45, 25, 10, 35, 30, 20, 30])\n",
    "obj"
   ]
  },
  {
   "cell_type": "code",
   "execution_count": 15,
   "id": "6645bb73",
   "metadata": {},
   "outputs": [
    {
     "data": {
      "text/plain": [
       "np.float64(13.788747987117553)"
      ]
     },
     "execution_count": 15,
     "metadata": {},
     "output_type": "execute_result"
    }
   ],
   "source": [
    "chi_sqr = np.sum(np.square(obj - exp)/exp)\n",
    "chi_sqr"
   ]
  },
  {
   "cell_type": "code",
   "execution_count": null,
   "id": "93ff472b",
   "metadata": {},
   "outputs": [],
   "source": [
    " "
   ]
  }
 ],
 "metadata": {
  "kernelspec": {
   "display_name": "venv",
   "language": "python",
   "name": "python3"
  },
  "language_info": {
   "codemirror_mode": {
    "name": "ipython",
    "version": 3
   },
   "file_extension": ".py",
   "mimetype": "text/x-python",
   "name": "python",
   "nbconvert_exporter": "python",
   "pygments_lexer": "ipython3",
   "version": "3.13.5"
  }
 },
 "nbformat": 4,
 "nbformat_minor": 5
}
