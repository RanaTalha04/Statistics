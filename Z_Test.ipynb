{
 "cells": [
  {
   "cell_type": "code",
   "execution_count": 1,
   "id": "6f7d0817",
   "metadata": {},
   "outputs": [],
   "source": [
    "import scipy.stats as st \n",
    "import numpy as np"
   ]
  },
  {
   "cell_type": "code",
   "execution_count": null,
   "id": "f60b1557",
   "metadata": {},
   "outputs": [],
   "source": [
    "old_design_data = np.array([45.2, 42.8, 38.9, 43.5, 41.0, 44.6, 40.5, 42.7, 39.8, 41.4, 44.3, 39.7, 42.1, 40.6, 43.0, 42.2, 41.5, 39.6, 44.0, 43.1, 38.7, 43.9, 42.0, 41.9, 42.8, 43.7, 41.3, 40.9, 42.5, 41.6])\n",
    "new_design_data = np.array([48.5, 49.1, 50.2, 47.8, 48.7, 49.9, 48.0, 50.5, 49.8, 49.6, 48.2, 48.9, 49.7, 50.3, 49.4, 50.1, 48.6, 48.3, 49.0, 50.0, 48.4, 49.3, 49.5, 48.8, 50.6, 50.4, 48.1, 49.2, 50.7, 50.8])"
   ]
  },
  {
   "cell_type": "code",
   "execution_count": 16,
   "id": "188c44f0",
   "metadata": {},
   "outputs": [],
   "source": [
    "mean_new = np.mean(new_design_data)\n",
    "mean_old = np.mean(old_design_data)\n",
    "pop_std = 2.5\n",
    "n = len(new_design_data)\n",
    "ap = 0.05"
   ]
  },
  {
   "cell_type": "code",
   "execution_count": 17,
   "id": "0431cfe3",
   "metadata": {},
   "outputs": [
    {
     "data": {
      "text/plain": [
       "np.float64(2.574530795779164)"
      ]
     },
     "execution_count": 17,
     "metadata": {},
     "output_type": "execute_result"
    }
   ],
   "source": [
    "z_cal = (mean_new / mean_old)/(pop_std / np.sqrt(n))\n",
    "z_cal"
   ]
  },
  {
   "cell_type": "code",
   "execution_count": 10,
   "id": "8b0572b1",
   "metadata": {},
   "outputs": [
    {
     "data": {
      "text/plain": [
       "np.float64(1.6448536269514722)"
      ]
     },
     "execution_count": 10,
     "metadata": {},
     "output_type": "execute_result"
    }
   ],
   "source": [
    "z_table = st.norm.ppf(1 - ap)\n",
    "z_table"
   ]
  },
  {
   "cell_type": "code",
   "execution_count": 11,
   "id": "e1d3a8f5",
   "metadata": {},
   "outputs": [
    {
     "name": "stdout",
     "output_type": "stream",
     "text": [
      "Ha is right.\n"
     ]
    }
   ],
   "source": [
    "if z_cal > z_table:\n",
    "    print(\"Ha is right.\")\n",
    "else:\n",
    "    print(\"Ho is right.\")"
   ]
  },
  {
   "cell_type": "code",
   "execution_count": null,
   "id": "b8194335",
   "metadata": {},
   "outputs": [],
   "source": []
  }
 ],
 "metadata": {
  "kernelspec": {
   "display_name": "venv",
   "language": "python",
   "name": "python3"
  },
  "language_info": {
   "codemirror_mode": {
    "name": "ipython",
    "version": 3
   },
   "file_extension": ".py",
   "mimetype": "text/x-python",
   "name": "python",
   "nbconvert_exporter": "python",
   "pygments_lexer": "ipython3",
   "version": "3.13.5"
  }
 },
 "nbformat": 4,
 "nbformat_minor": 5
}
