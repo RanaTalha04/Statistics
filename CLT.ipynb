{
 "cells": [
  {
   "cell_type": "code",
   "execution_count": 6,
   "id": "c9a04680",
   "metadata": {},
   "outputs": [],
   "source": [
    "import numpy as np\n",
    "import pandas as pd\n",
    "import seaborn as sns\n",
    "import matplotlib.pyplot as plt"
   ]
  },
  {
   "cell_type": "code",
   "execution_count": 7,
   "id": "db1f4d1c",
   "metadata": {},
   "outputs": [
    {
     "data": {
      "application/vnd.microsoft.datawrangler.viewer.v0+json": {
       "columns": [
        {
         "name": "index",
         "rawType": "int64",
         "type": "integer"
        },
        {
         "name": "Pop Data",
         "rawType": "int64",
         "type": "integer"
        }
       ],
       "ref": "c12a761b-4bfe-49ce-a0fe-00d917a4beee",
       "rows": [
        [
         "0",
         "48"
        ],
        [
         "1",
         "68"
        ],
        [
         "2",
         "42"
        ],
        [
         "3",
         "45"
        ],
        [
         "4",
         "52"
        ],
        [
         "5",
         "43"
        ],
        [
         "6",
         "60"
        ],
        [
         "7",
         "53"
        ],
        [
         "8",
         "76"
        ],
        [
         "9",
         "34"
        ],
        [
         "10",
         "31"
        ],
        [
         "11",
         "20"
        ],
        [
         "12",
         "12"
        ],
        [
         "13",
         "93"
        ],
        [
         "14",
         "60"
        ],
        [
         "15",
         "94"
        ],
        [
         "16",
         "39"
        ],
        [
         "17",
         "36"
        ],
        [
         "18",
         "60"
        ],
        [
         "19",
         "81"
        ],
        [
         "20",
         "95"
        ],
        [
         "21",
         "48"
        ],
        [
         "22",
         "88"
        ],
        [
         "23",
         "51"
        ],
        [
         "24",
         "71"
        ],
        [
         "25",
         "71"
        ],
        [
         "26",
         "21"
        ],
        [
         "27",
         "57"
        ],
        [
         "28",
         "24"
        ],
        [
         "29",
         "75"
        ],
        [
         "30",
         "11"
        ],
        [
         "31",
         "21"
        ],
        [
         "32",
         "99"
        ],
        [
         "33",
         "51"
        ],
        [
         "34",
         "53"
        ],
        [
         "35",
         "63"
        ],
        [
         "36",
         "86"
        ],
        [
         "37",
         "49"
        ],
        [
         "38",
         "29"
        ],
        [
         "39",
         "67"
        ],
        [
         "40",
         "42"
        ],
        [
         "41",
         "51"
        ],
        [
         "42",
         "80"
        ],
        [
         "43",
         "55"
        ],
        [
         "44",
         "29"
        ],
        [
         "45",
         "58"
        ],
        [
         "46",
         "29"
        ],
        [
         "47",
         "98"
        ],
        [
         "48",
         "13"
        ],
        [
         "49",
         "98"
        ]
       ],
       "shape": {
        "columns": 1,
        "rows": 10000
       }
      },
      "text/html": [
       "<div>\n",
       "<style scoped>\n",
       "    .dataframe tbody tr th:only-of-type {\n",
       "        vertical-align: middle;\n",
       "    }\n",
       "\n",
       "    .dataframe tbody tr th {\n",
       "        vertical-align: top;\n",
       "    }\n",
       "\n",
       "    .dataframe thead th {\n",
       "        text-align: right;\n",
       "    }\n",
       "</style>\n",
       "<table border=\"1\" class=\"dataframe\">\n",
       "  <thead>\n",
       "    <tr style=\"text-align: right;\">\n",
       "      <th></th>\n",
       "      <th>Pop Data</th>\n",
       "    </tr>\n",
       "  </thead>\n",
       "  <tbody>\n",
       "    <tr>\n",
       "      <th>0</th>\n",
       "      <td>48</td>\n",
       "    </tr>\n",
       "    <tr>\n",
       "      <th>1</th>\n",
       "      <td>68</td>\n",
       "    </tr>\n",
       "    <tr>\n",
       "      <th>2</th>\n",
       "      <td>42</td>\n",
       "    </tr>\n",
       "    <tr>\n",
       "      <th>3</th>\n",
       "      <td>45</td>\n",
       "    </tr>\n",
       "    <tr>\n",
       "      <th>4</th>\n",
       "      <td>52</td>\n",
       "    </tr>\n",
       "    <tr>\n",
       "      <th>...</th>\n",
       "      <td>...</td>\n",
       "    </tr>\n",
       "    <tr>\n",
       "      <th>9995</th>\n",
       "      <td>28</td>\n",
       "    </tr>\n",
       "    <tr>\n",
       "      <th>9996</th>\n",
       "      <td>62</td>\n",
       "    </tr>\n",
       "    <tr>\n",
       "      <th>9997</th>\n",
       "      <td>17</td>\n",
       "    </tr>\n",
       "    <tr>\n",
       "      <th>9998</th>\n",
       "      <td>33</td>\n",
       "    </tr>\n",
       "    <tr>\n",
       "      <th>9999</th>\n",
       "      <td>94</td>\n",
       "    </tr>\n",
       "  </tbody>\n",
       "</table>\n",
       "<p>10000 rows × 1 columns</p>\n",
       "</div>"
      ],
      "text/plain": [
       "      Pop Data\n",
       "0           48\n",
       "1           68\n",
       "2           42\n",
       "3           45\n",
       "4           52\n",
       "...        ...\n",
       "9995        28\n",
       "9996        62\n",
       "9997        17\n",
       "9998        33\n",
       "9999        94\n",
       "\n",
       "[10000 rows x 1 columns]"
      ]
     },
     "execution_count": 7,
     "metadata": {},
     "output_type": "execute_result"
    }
   ],
   "source": [
    "pop_data = [np.random.randint(10, 100) for i in range(10000)]\n",
    "pop_table = pd.DataFrame({\"Pop Data\": pop_data})\n",
    "pop_table"
   ]
  },
  {
   "cell_type": "code",
   "execution_count": 17,
   "id": "400cd25b",
   "metadata": {},
   "outputs": [
    {
     "data": {
      "text/plain": [
       "np.float64(54.2905)"
      ]
     },
     "execution_count": 17,
     "metadata": {},
     "output_type": "execute_result"
    }
   ],
   "source": [
    "np.mean(pop_data)"
   ]
  },
  {
   "cell_type": "code",
   "execution_count": 9,
   "id": "b1d5a696",
   "metadata": {},
   "outputs": [
    {
     "data": {
      "image/png": "[encoded data removed]",
      "text/plain": [
       "<Figure size 640x480 with 1 Axes>"
      ]
     },
     "metadata": {},
     "output_type": "display_data"
    }
   ],
   "source": [
    "sns.kdeplot(x=\"Pop Data\", data= pop_table)\n",
    "plt.show()"
   ]
  },
  {
   "cell_type": "code",
   "execution_count": 14,
   "id": "09d33702",
   "metadata": {},
   "outputs": [],
   "source": [
    "sam_mean = []\n",
    "for no_sample in range(100):\n",
    "    sam_data = []\n",
    "    for data in range(500):\n",
    "        sam_data.append(np.random.choice(pop_data))\n",
    "    sam_mean.append(np.mean(sam_data))"
   ]
  },
  {
   "cell_type": "code",
   "execution_count": 18,
   "id": "ea71f734",
   "metadata": {},
   "outputs": [
    {
     "data": {
      "text/plain": [
       "np.float64(54.22502)"
      ]
     },
     "execution_count": 18,
     "metadata": {},
     "output_type": "execute_result"
    }
   ],
   "source": [
    "np.mean(sam_mean)"
   ]
  },
  {
   "cell_type": "code",
   "execution_count": 15,
   "id": "f7b19b3f",
   "metadata": {},
   "outputs": [],
   "source": [
    "sample_M = pd.DataFrame({\"Sample_Mean\": sam_mean})\n"
   ]
  },
  {
   "cell_type": "code",
   "execution_count": 16,
   "id": "1b9ecc60",
   "metadata": {},
   "outputs": [
    {
     "data": {
      "image/png": "[encoded data removed]",
      "text/plain": [
       "<Figure size 640x480 with 1 Axes>"
      ]
     },
     "metadata": {},
     "output_type": "display_data"
    }
   ],
   "source": [
    "sns.kdeplot(x=\"Sample_Mean\", data=sample_M)\n",
    "plt.show()"
   ]
  },
  {
   "cell_type": "code",
   "execution_count": null,
   "id": "6d20d099",
   "metadata": {},
   "outputs": [],
   "source": []
  }
 ],
 "metadata": {
  "kernelspec": {
   "display_name": "venv",
   "language": "python",
   "name": "python3"
  },
  "language_info": {
   "codemirror_mode": {
    "name": "ipython",
    "version": 3
   },
   "file_extension": ".py",
   "mimetype": "text/x-python",
   "name": "python",
   "nbconvert_exporter": "python",
   "pygments_lexer": "ipython3",
   "version": "3.13.5"
  }
 },
 "nbformat": 4,
 "nbformat_minor": 5
}
